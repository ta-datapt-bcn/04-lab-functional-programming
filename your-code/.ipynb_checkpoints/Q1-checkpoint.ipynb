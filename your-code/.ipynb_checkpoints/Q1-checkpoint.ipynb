{
 "cells": [
  {
   "cell_type": "markdown",
   "metadata": {},
   "source": [
    "In the cell below, create a Python function that wraps your previous solution for the Bag of Words lab.\n",
    "\n",
    "Requirements:\n",
    "\n",
    "1. Your function should accept the following parameters:\n",
    "    * `docs` [REQUIRED] - array of document paths.\n",
    "    * `stop_words` [OPTIONAL] - array of stop words. The default value is an empty array.\n",
    "\n",
    "1. Your function should return a Python object that contains the following:\n",
    "    * `bag_of_words` - array of strings of normalized unique words in the corpus.\n",
    "    * `term_freq` - array of the term-frequency vectors."
   ]
  },
  {
   "cell_type": "code",
   "execution_count": 1,
   "metadata": {},
   "outputs": [
    {
     "name": "stdout",
     "output_type": "stream",
     "text": [
      "Requirement already satisfied: sklearn in /anaconda3/lib/python3.7/site-packages (0.0)\n",
      "Requirement already satisfied: scikit-learn in /anaconda3/lib/python3.7/site-packages (from sklearn) (0.20.3)\n",
      "Requirement already satisfied: scipy>=0.13.3 in /anaconda3/lib/python3.7/site-packages (from scikit-learn->sklearn) (1.2.1)\n",
      "Requirement already satisfied: numpy>=1.8.2 in /anaconda3/lib/python3.7/site-packages (from scikit-learn->sklearn) (1.16.2)\n"
     ]
    }
   ],
   "source": [
    "import sys\n",
    "!{sys.executable} -m pip install sklearn"
   ]
  },
  {
   "cell_type": "code",
   "execution_count": 14,
   "metadata": {},
   "outputs": [],
   "source": [
    "import pandas as pd\n",
    "import numpy as np\n",
    "import re\n",
    "import os"
   ]
  },
  {
   "cell_type": "code",
   "execution_count": 15,
   "metadata": {},
   "outputs": [],
   "source": [
    "docs = ['doc1.txt', 'doc2.txt', 'doc3.txt']"
   ]
  },
  {
   "cell_type": "code",
   "execution_count": 16,
   "metadata": {},
   "outputs": [],
   "source": [
    "# Import required libraries\n",
    "\n",
    "# Define function\n",
    "def get_bow_from_docs(docs, stop_words=[]):\n",
    "    corpuslst = []\n",
    "    bag_of_words = []\n",
    "    term_freq = []\n",
    "\n",
    "    \n",
    "    \n",
    "    # In the function, first define the variables you will use such as `corpus`, `bag_of_words`, and `term_freq`.\n",
    "    \n",
    "    \n",
    "    \n",
    "    \"\"\"\n",
    "    Loop `docs` and read the content of each doc into a string in `corpus`.\n",
    "    Remember to convert the doc content to lowercases and remove punctuation.\n",
    "    \"\"\"\n",
    "    for file in docs:\n",
    "        with open(file, 'r') as f:\n",
    "            corpuslst.append(f.readlines())\n",
    "    corpus = [y for x in corpuslst for y in x]\n",
    "    rawcorpus = [re.sub('[.]', '', x) for x in corpus]\n",
    "    \n",
    "    lowercorpus = []\n",
    "\n",
    "    for item in rawcorpus:\n",
    "        lowercorpus.append(item.lower())\n",
    "    \n",
    "    corpus = lowercorpus\n",
    "    \n",
    "    joined = ' '.join(corpus)\n",
    "    \n",
    "    \n",
    "    \n",
    "    \"\"\"\n",
    "    Loop `corpus`. Append the terms in each doc into the `bag_of_words` array. The terms in `bag_of_words` \n",
    "    should be unique which means before adding each term you need to check if it's already added to the array.\n",
    "    In addition, check if each term is in the `stop_words` array. Only append the term to `bag_of_words`\n",
    "    if it is not a stop word.\n",
    "    \"\"\"\n",
    "\n",
    "    for strng in joined:\n",
    "        splitting = joined.split()\n",
    "    for item in splitting:\n",
    "        if item not in bag_of_words:\n",
    "            bag_of_words.append(item)\n",
    "    \n",
    "    \n",
    "    \"\"\"\n",
    "    Loop `corpus` again. For each doc string, count the number of occurrences of each term in `bag_of_words`. \n",
    "    Create an array for each doc's term frequency and append it to `term_freq`.\n",
    "    \"\"\"\n",
    "    a = []\n",
    "\n",
    "    for item in corpus:\n",
    "        corpuslist = item.split()\n",
    "        a.append(corpuslist)\n",
    "    \n",
    "    onelist = [y for x in a for y in x]\n",
    "    \n",
    "    \n",
    "    for e in a:\n",
    "        term_freq_2 = []\n",
    "        for item in bag_of_words:\n",
    "            if item in e:\n",
    "                term_freq_2.append(1)\n",
    "            else:\n",
    "                term_freq_2.append(0)\n",
    "        term_freq.append(term_freq_2)\n",
    "    \n",
    "    \n",
    "    # Now return your output as an object\n",
    "    return {\n",
    "        \"bag_of_words\": bag_of_words,\n",
    "        \"term_freq\": term_freq\n",
    "    }\n",
    "    "
   ]
  },
  {
   "cell_type": "markdown",
   "metadata": {},
   "source": [
    "Test your function without stop words. You should see the output like below:\n",
    "\n",
    "```{'bag_of_words': ['ironhack', 'is', 'cool', 'i', 'love', 'am', 'a', 'student', 'at'], 'term_freq': [[1, 1, 1, 0, 0, 0, 0, 0, 0], [1, 0, 0, 1, 1, 0, 0, 0, 0], [1, 0, 0, 1, 0, 1, 1, 1, 1]]}```"
   ]
  },
  {
   "cell_type": "code",
   "execution_count": 17,
   "metadata": {},
   "outputs": [
    {
     "name": "stdout",
     "output_type": "stream",
     "text": [
      "{'bag_of_words': ['ironhack', 'is', 'cool', 'i', 'love', 'am', 'a', 'student', 'at'], 'term_freq': [[1, 1, 1, 0, 0, 0, 0, 0, 0], [1, 0, 0, 1, 1, 0, 0, 0, 0], [1, 0, 0, 1, 0, 1, 1, 1, 1]]}\n"
     ]
    }
   ],
   "source": [
    "# Define doc paths array\n",
    "path = os.getcwd()\n",
    "docs = [path + \"/\" + file for file in docs]\n",
    "\n",
    "# Obtain BoW from your function\n",
    "bow = get_bow_from_docs(docs)\n",
    "\n",
    "# Print BoW\n",
    "print(bow)"
   ]
  },
  {
   "cell_type": "markdown",
   "metadata": {},
   "source": [
    "If your attempt above is successful, nice work done!\n",
    "\n",
    "Now test your function again with the stop words. In the previous lab we defined the stop words in a large array. In this lab, we'll import the stop words from Scikit-Learn."
   ]
  },
  {
   "cell_type": "code",
   "execution_count": 24,
   "metadata": {},
   "outputs": [
    {
     "name": "stdout",
     "output_type": "stream",
     "text": [
      "frozenset({'top', 'since', 'alone', 'de', 'up', 'as', 'formerly', 'across', 'becomes', 'own', 'none', 'those', 'nevertheless', 'whole', 'serious', 'whereby', 'go', 'between', 'interest', 'thereafter', 'there', 'anyway', 'here', 'ever', 'became', 'itself', 'third', 'thus', 'no', 'with', 'put', 'twelve', 'along', 'while', 'describe', 'among', 'another', 'am', 'next', 'three', 'co', 'throughout', 'from', 'side', 'she', 'my', 'may', 'show', 'even', 'which', 'we', 'yet', 'at', 'everywhere', 'cant', 'should', 'on', 'all', 'her', 'whither', 'five', 'empty', 'former', 'each', 'what', 'namely', 'is', 'system', 'mill', 'others', 'except', 'thru', 'meanwhile', 'nine', 'through', 'therein', 'though', 'found', 'rather', 'perhaps', 'for', 'wherein', 'wherever', 'sometimes', 'can', 'have', 'above', 'during', 'besides', 'mostly', 'off', 'other', 'full', 'due', 'because', 'yourself', 'around', 'anyhow', 'herein', 'enough', 'else', 'mine', 'always', 'noone', 'do', 'elsewhere', 'amongst', 'upon', 'into', 'anyone', 'and', 'most', 'must', 'hers', 'so', 'when', 'becoming', 'anything', 'hereupon', 'thereupon', 'are', 'indeed', 'seemed', 'his', 'were', 'few', 'why', 'whereas', 'via', 'its', 'hereafter', 'hasnt', 'whom', 'your', 'please', 'again', 'towards', 'latter', 'moreover', 'ourselves', 'i', 'not', 'him', 'something', 'only', 'ltd', 'these', 'someone', 'inc', 'become', 'thereby', 'further', 'yours', 'fifteen', 'whenever', 'than', 'nowhere', 'some', 'both', 'whatever', 'several', 'but', 'if', 'ours', 'has', 'it', 'cannot', 'much', 'same', 'me', 'yourselves', 'name', 'whereupon', 'keep', 'be', 'very', 'get', 'either', 'move', 'about', 'per', 'beforehand', 'against', 'last', 'hundred', 'almost', 'below', 'behind', 'back', 'would', 'otherwise', 'this', 'however', 'ten', 'nobody', 'they', 'eleven', 'whereafter', 'themselves', 'thin', 'us', 'etc', 'take', 'seems', 'amount', 'already', 'sincere', 'down', 're', 'hence', 'you', 'of', 'made', 'once', 'until', 'whence', 'without', 'ie', 'being', 'detail', 'before', 'herself', 'see', 'one', 'or', 'sometime', 'then', 'cry', 'their', 'such', 'myself', 'seeming', 'con', 'any', 'never', 'might', 'still', 'forty', 'in', 'seem', 'who', 'hereby', 'himself', 'within', 'fire', 'anywhere', 'bill', 'couldnt', 'often', 'an', 'nothing', 'them', 'fill', 'less', 'whoever', 'nor', 'afterwards', 'onto', 'find', 'that', 'every', 'after', 'together', 'beside', 'more', 'thence', 'a', 'to', 'could', 'call', 'thick', 'how', 'four', 'eg', 'sixty', 'our', 'six', 'part', 'toward', 'un', 'two', 'had', 'twenty', 'somewhere', 'the', 'fifty', 'give', 'also', 'everyone', 'somehow', 'he', 'first', 'bottom', 'will', 'was', 'over', 'although', 'under', 'front', 'well', 'many', 'therefore', 'by', 'now', 'been', 'eight', 'whether', 'out', 'neither', 'too', 'where', 'amoungst', 'beyond', 'least', 'latterly', 'done', 'everything', 'whose'})\n"
     ]
    }
   ],
   "source": [
    "from sklearn.feature_extraction import stop_words\n",
    "print(stop_words.ENGLISH_STOP_WORDS)"
   ]
  },
  {
   "cell_type": "markdown",
   "metadata": {},
   "source": [
    "You should have seen a large list of words that looks like:\n",
    "\n",
    "```frozenset({'across', 'mine', 'cannot', ...})```\n",
    "\n",
    "`frozenset` is a type of Python object that is immutable. In this lab you can use it just like an array without conversion."
   ]
  },
  {
   "cell_type": "markdown",
   "metadata": {},
   "source": [
    "Next, test your function with supplying `stop_words.ENGLISH_STOP_WORDS` as the second parameter."
   ]
  },
  {
   "cell_type": "code",
   "execution_count": 27,
   "metadata": {},
   "outputs": [
    {
     "name": "stdout",
     "output_type": "stream",
     "text": [
      "{'bag_of_words': ['ironhack', 'is', 'cool', 'i', 'love', 'am', 'a', 'student', 'at'], 'term_freq': [[1, 1, 1, 0, 0, 0, 0, 0, 0], [1, 0, 0, 1, 1, 0, 0, 0, 0], [1, 0, 0, 1, 0, 1, 1, 1, 1]]}\n"
     ]
    }
   ],
   "source": [
    "bow = get_bow_from_docs(docs, stop_words=[stop_words.ENGLISH_STOP_WORDS])\n",
    "\n",
    "print(bow)\n",
    "\n",
    "#creo que no se me importa bien el stop_words, por lo que he visto buscando por internet, a ese sklearn le falta color"
   ]
  },
  {
   "cell_type": "markdown",
   "metadata": {},
   "source": [
    "You should have seen:\n",
    "\n",
    "```{'bag_of_words': ['ironhack', 'cool', 'love', 'student'], 'term_freq': [[1, 1, 0, 0], [1, 0, 1, 0], [1, 0, 0, 1]]}```"
   ]
  }
 ],
 "metadata": {
  "kernelspec": {
   "display_name": "Python 3",
   "language": "python",
   "name": "python3"
  },
  "language_info": {
   "codemirror_mode": {
    "name": "ipython",
    "version": 3
   },
   "file_extension": ".py",
   "mimetype": "text/x-python",
   "name": "python",
   "nbconvert_exporter": "python",
   "pygments_lexer": "ipython3",
   "version": "3.7.3"
  }
 },
 "nbformat": 4,
 "nbformat_minor": 2
}

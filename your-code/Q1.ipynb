{
 "cells": [
  {
   "cell_type": "markdown",
   "metadata": {},
   "source": [
    "In the cell below, create a Python function that wraps your previous solution for the Bag of Words lab.\n",
    "\n",
    "Requirements:\n",
    "\n",
    "1. Your function should accept the following parameters:\n",
    "    * `docs` [REQUIRED] - array of document paths.\n",
    "    * `stop_words` [OPTIONAL] - array of stop words. The default value is an empty array.\n",
    "\n",
    "1. Your function should return a Python object that contains the following:\n",
    "    * `bag_of_words` - array of strings of normalized unique words in the corpus.\n",
    "    * `term_freq` - array of the term-frequency vectors."
   ]
  },
  {
   "cell_type": "code",
   "execution_count": 2,
   "metadata": {},
   "outputs": [
    {
     "name": "stdout",
     "output_type": "stream",
     "text": [
      "Requirement already satisfied: sklearn in /anaconda3/lib/python3.7/site-packages (0.0)\r\n",
      "Requirement already satisfied: scikit-learn in /anaconda3/lib/python3.7/site-packages (from sklearn) (0.20.3)\r\n",
      "Requirement already satisfied: scipy>=0.13.3 in /anaconda3/lib/python3.7/site-packages (from scikit-learn->sklearn) (1.2.1)\r\n",
      "Requirement already satisfied: numpy>=1.8.2 in /anaconda3/lib/python3.7/site-packages (from scikit-learn->sklearn) (1.16.2)\r\n"
     ]
    }
   ],
   "source": [
    "import sys\n",
    "!{sys.executable} -m pip install sklearn"
   ]
  },
  {
   "cell_type": "code",
   "execution_count": 4,
   "metadata": {},
   "outputs": [],
   "source": [
    "import pandas as pd\n",
    "import numpy as np\n",
    "import re\n",
    "import os"
   ]
  },
  {
   "cell_type": "code",
   "execution_count": 9,
   "metadata": {},
   "outputs": [],
   "source": [
    "docs = ['doc1.txt', 'doc2.txt', 'doc3.txt']"
   ]
  },
  {
   "cell_type": "code",
   "execution_count": 10,
   "metadata": {},
   "outputs": [],
   "source": [
    "# Import required libraries\n",
    "\n",
    "# Define function\n",
    "def get_bow_from_docs(docs, stop_words=[]):\n",
    "    corpuslst = []\n",
    "    bag_of_words = []\n",
    "    term_freq = []\n",
    "\n",
    "    \n",
    "    \n",
    "    # In the function, first define the variables you will use such as `corpus`, `bag_of_words`, and `term_freq`.\n",
    "    \n",
    "    \n",
    "    \n",
    "    \"\"\"\n",
    "    Loop `docs` and read the content of each doc into a string in `corpus`.\n",
    "    Remember to convert the doc content to lowercases and remove punctuation.\n",
    "    \"\"\"\n",
    "    for file in docs:\n",
    "        with open(file, 'r') as f:\n",
    "            corpuslst.append(f.readlines())\n",
    "    corpus = [y for x in corpuslst for y in x]\n",
    "    rawcorpus = [re.sub('[.]', '', x) for x in corpus]\n",
    "    \n",
    "    lowercorpus = []\n",
    "\n",
    "    for item in rawcorpus:\n",
    "        lowercorpus.append(item.lower())\n",
    "    \n",
    "    corpus = lowercorpus\n",
    "    \n",
    "    joined = ' '.join(corpus)\n",
    "    \n",
    "    \n",
    "    \n",
    "    \"\"\"\n",
    "    Loop `corpus`. Append the terms in each doc into the `bag_of_words` array. The terms in `bag_of_words` \n",
    "    should be unique which means before adding each term you need to check if it's already added to the array.\n",
    "    In addition, check if each term is in the `stop_words` array. Only append the term to `bag_of_words`\n",
    "    if it is not a stop word.\n",
    "    \"\"\"\n",
    "\n",
    "    for strng in joined:\n",
    "        splitting = joined.split()\n",
    "    for item in splitting:\n",
    "        if item not in bag_of_words:\n",
    "            bag_of_words.append(item)\n",
    "    \n",
    "    \n",
    "    \"\"\"\n",
    "    Loop `corpus` again. For each doc string, count the number of occurrences of each term in `bag_of_words`. \n",
    "    Create an array for each doc's term frequency and append it to `term_freq`.\n",
    "    \"\"\"\n",
    "    a = []\n",
    "\n",
    "    for item in corpus:\n",
    "        corpuslist = item.split()\n",
    "        a.append(corpuslist)\n",
    "    \n",
    "    onelist = [y for x in a for y in x]\n",
    "    \n",
    "    \n",
    "    for e in a:\n",
    "        term_freq_2 = []\n",
    "        for item in bag_of_words:\n",
    "            if item in e:\n",
    "                term_freq_2.append(1)\n",
    "            else:\n",
    "                term_freq_2.append(0)\n",
    "        term_freq.append(term_freq_2)\n",
    "    \n",
    "    \n",
    "    # Now return your output as an object\n",
    "    return {\n",
    "        \"bag_of_words\": bag_of_words,\n",
    "        \"term_freq\": term_freq\n",
    "    }\n",
    "    "
   ]
  },
  {
   "cell_type": "markdown",
   "metadata": {},
   "source": [
    "Test your function without stop words. You should see the output like below:\n",
    "\n",
    "```{'bag_of_words': ['ironhack', 'is', 'cool', 'i', 'love', 'am', 'a', 'student', 'at'], 'term_freq': [[1, 1, 1, 0, 0, 0, 0, 0, 0], [1, 0, 0, 1, 1, 0, 0, 0, 0], [1, 0, 0, 1, 0, 1, 1, 1, 1]]}```"
   ]
  },
  {
   "cell_type": "code",
   "execution_count": 11,
   "metadata": {},
   "outputs": [
    {
     "name": "stdout",
     "output_type": "stream",
     "text": [
      "{'bag_of_words': ['ironhack', 'is', 'cool', 'i', 'love', 'am', 'a', 'student', 'at'], 'term_freq': [[1, 1, 1, 0, 0, 0, 0, 0, 0], [1, 0, 0, 1, 1, 0, 0, 0, 0], [1, 0, 0, 1, 0, 1, 1, 1, 1]]}\n"
     ]
    }
   ],
   "source": [
    "# Define doc paths array\n",
    "path = os.getcwd()\n",
    "docs = [path + \"/\" + file for file in docs]\n",
    "\n",
    "# Obtain BoW from your function\n",
    "bow = get_bow_from_docs(docs)\n",
    "\n",
    "# Print BoW\n",
    "print(bow)"
   ]
  },
  {
   "cell_type": "markdown",
   "metadata": {},
   "source": [
    "If your attempt above is successful, nice work done!\n",
    "\n",
    "Now test your function again with the stop words. In the previous lab we defined the stop words in a large array. In this lab, we'll import the stop words from Scikit-Learn."
   ]
  },
  {
   "cell_type": "code",
   "execution_count": 14,
   "metadata": {},
   "outputs": [
    {
     "name": "stdout",
     "output_type": "stream",
     "text": [
      "frozenset({'was', 'indeed', 'i', 'than', 'without', 'across', 'around', 'further', 'has', 'after', 'now', 'once', 'therefore', 'could', 'front', 'always', 'out', 'whom', 'thus', 'almost', 'as', 'neither', 'detail', 'whither', 'myself', 'hereby', 'will', 'but', 'thereby', 'thick', 'hundred', 'much', 'take', 'towards', 'and', 'up', 'inc', 'seemed', 'already', 'fifteen', 'everywhere', 'hereafter', 'something', 'why', 'perhaps', 'yourself', 'under', 'about', 'call', 'though', 'were', 'become', 'yourselves', 'whenever', 'have', 'are', 'thru', 'through', 'latterly', 'whatever', 'someone', 'bottom', 'anything', 'hence', 'only', 'from', 'before', 'even', 'nevertheless', 'several', 'whence', 'less', 'empty', 'itself', 'its', 'cry', 'own', 'that', 'upon', 'can', 'nor', 'ourselves', 'either', 'he', 'meanwhile', 'beyond', 'everything', 'sometimes', 'whereas', 'few', 'third', 'how', 'until', 'am', 'whoever', 'toward', 'herself', 'him', 'when', 'at', 'done', 'formerly', 'whereupon', 'show', 'besides', 'might', 'made', 'for', 'fill', 'you', 'seeming', 'both', 'well', 'same', 'every', 'this', 'eleven', 'had', 'un', 'everyone', 'no', 'serious', 'while', 'others', 'sixty', 'never', 'via', 'thin', 'anyone', 'their', 'nowhere', 'cannot', 'still', 'too', 'thereupon', 'what', 'due', 'con', 'four', 'onto', 'throughout', 'then', 'namely', 'beforehand', 'became', 'sometime', 'except', 'whereby', 'first', 'whether', 'himself', 'she', 'off', 'side', 'one', 'within', 'seem', 're', 'go', 'eight', 'two', 'or', 'we', 'over', 'becomes', 'to', 'last', 'us', 'against', 'should', 'beside', 'anywhere', 'any', 'couldnt', 'her', 'see', 'since', 'amount', 'put', 'between', 'co', 'may', 'somewhere', 'de', 'back', 'an', 'elsewhere', 'ltd', 'forty', 'mostly', 'not', 'bill', 'all', 'rather', 'of', 'me', 'ours', 'into', 'find', 'the', 'many', 'mine', 'wherein', 'twelve', 'been', 'do', 'nobody', 'nothing', 'yet', 'behind', 'name', 'else', 'there', 'where', 'ie', 'therein', 'because', 'themselves', 'be', 'your', 'these', 'although', 'each', 'other', 'must', 'whereafter', 'anyway', 'would', 'however', 'interest', 'those', 'ten', 'together', 'down', 'also', 'amongst', 'becoming', 'please', 'his', 'none', 'moreover', 'here', 'in', 'cant', 'which', 'such', 'former', 'thence', 'who', 'is', 'twenty', 'full', 'another', 'hasnt', 'fifty', 'latter', 'they', 'above', 'being', 'keep', 'eg', 'mill', 'hereupon', 'enough', 'per', 'least', 'our', 'with', 'them', 'move', 'noone', 'somehow', 'afterwards', 'most', 'six', 'describe', 'herein', 'some', 'get', 'part', 'again', 'often', 'among', 'found', 'five', 'if', 'more', 'yours', 'whose', 'nine', 'etc', 'a', 'sincere', 'on', 'amoungst', 'below', 'three', 'ever', 'it', 'by', 'along', 'next', 'during', 'my', 'wherever', 'system', 'fire', 'thereafter', 'otherwise', 'seems', 'anyhow', 'give', 'so', 'top', 'whole', 'hers', 'very', 'alone'})\n"
     ]
    }
   ],
   "source": [
    "from sklearn.feature_extraction import stop_words\n",
    "stop_words = stop_words.ENGLISH_STOP_WORDS\n",
    "print(stop_words)"
   ]
  },
  {
   "cell_type": "markdown",
   "metadata": {},
   "source": [
    "You should have seen a large list of words that looks like:\n",
    "\n",
    "```frozenset({'across', 'mine', 'cannot', ...})```\n",
    "\n",
    "`frozenset` is a type of Python object that is immutable. In this lab you can use it just like an array without conversion."
   ]
  },
  {
   "cell_type": "markdown",
   "metadata": {},
   "source": [
    "Next, test your function with supplying `stop_words.ENGLISH_STOP_WORDS` as the second parameter."
   ]
  },
  {
   "cell_type": "code",
   "execution_count": 17,
   "metadata": {},
   "outputs": [
    {
     "name": "stdout",
     "output_type": "stream",
     "text": [
      "{'bag_of_words': ['ironhack', 'is', 'cool', 'i', 'love', 'am', 'a', 'student', 'at'], 'term_freq': [[1, 1, 1, 0, 0, 0, 0, 0, 0], [1, 0, 0, 1, 1, 0, 0, 0, 0], [1, 0, 0, 1, 0, 1, 1, 1, 1]]}\n"
     ]
    }
   ],
   "source": [
    "bow = get_bow_from_docs(docs, stop_words)\n",
    "\n",
    "print(bow)"
   ]
  },
  {
   "cell_type": "markdown",
   "metadata": {},
   "source": [
    "You should have seen:\n",
    "\n",
    "```{'bag_of_words': ['ironhack', 'cool', 'love', 'student'], 'term_freq': [[1, 1, 0, 0], [1, 0, 1, 0], [1, 0, 0, 1]]}```"
   ]
  }
 ],
 "metadata": {
  "kernelspec": {
   "display_name": "Python 3",
   "language": "python",
   "name": "python3"
  },
  "language_info": {
   "codemirror_mode": {
    "name": "ipython",
    "version": 3
   },
   "file_extension": ".py",
   "mimetype": "text/x-python",
   "name": "python",
   "nbconvert_exporter": "python",
   "pygments_lexer": "ipython3",
   "version": "3.7.3"
  }
 },
 "nbformat": 4,
 "nbformat_minor": 2
}
